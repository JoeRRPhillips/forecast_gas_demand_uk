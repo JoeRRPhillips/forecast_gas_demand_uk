{
 "cells": [
  {
   "cell_type": "code",
   "execution_count": 20,
   "id": "975d4cc6-7274-4cdd-b5b2-75df049011bf",
   "metadata": {},
   "outputs": [],
   "source": [
    "import numpy as np\n",
    "import pandas as pd\n",
    "import tensorflow as tf\n",
    "from typing import Dict\n",
    "\n",
    "from data import dataset_partitioners\n",
    "from data.dataset_generators import WindowedDatasetGenerator\n",
    "from networks.recurrent import AutoRegressiveMultiStepLSTM\n",
    "\n",
    "\n",
    "config: Dict = {\n",
    "    \"epochs\": 2,\n",
    "    \"batch_size\": 32,\n",
    "    \"learning_rate\": 3e-4,\n",
    "    \"train_data_filepath\": \"/mnt/c/Users/JPhillips/ldz/data/basic/train.csv\",\n",
    "    \"test_data_filepath\": \"/mnt/c/Users/JPhillips/ldz/data/basic/test.csv\",\n",
    "}\n",
    "\n",
    "\n",
    "# Load data\n",
    "train_df = pd.read_csv(config[\"train_data_filepath\"])\n",
    "test_df = pd.read_csv(config[\"test_data_filepath\"])\n",
    "\n",
    "# Split training data into train-validation sets\n",
    "data_splitter = dataset_partitioners.TimeSeriesDataSplitter(train_df)\n",
    "train_df, validation_df = data_splitter(0.2)\n",
    "\n",
    "# Build TF datasets\n",
    "dataset_generator = WindowedDatasetGenerator(\n",
    "    batch_size=config[\"batch_size\"],\n",
    "    input_width=24,\n",
    "    label_width=24,\n",
    "    shift=1,\n",
    "    train_df=train_df,\n",
    "    validation_df=validation_df,\n",
    "    test_df=test_df,\n",
    ")\n",
    "train_dataset = dataset_generator.train_dataset\n",
    "validation_dataset = dataset_generator.validation_dataset\n",
    "test_dataset = dataset_generator.test_dataset\n",
    "\n",
    "# model = tf.keras.load_model(cfg.predict.saved_model_path)\n",
    "model = AutoRegressiveMultiStepLSTM(\n",
    "    recurrent_units=256,\n",
    "    num_features=66,   # Must match train_df.shape[1].\n",
    "    num_out_steps=24,  # Must match config_data[\"window_label_width\"].\n",
    ")\n",
    "\n",
    "model.compile(\n",
    "    loss = tf.losses.MeanSquaredError(),\n",
    "    optimizer = tf.keras.optimizers.Adam(learning_rate=3e-4),\n",
    ")"
   ]
  },
  {
   "cell_type": "code",
   "execution_count": null,
   "id": "86d601b3-2465-4421-adb1-45adae66080e",
   "metadata": {},
   "outputs": [],
   "source": [
    "checkpoint_dir = Path(f\"{cfg.logging.checkpoint_dir}/{model.name}\")\n",
    "if not checkpoint_dir.exists():\n",
    "    Path.mkdir(checkpoint_dir, parents=True)\n",
    "\n",
    "checkpoint_callback = tf.keras.callbacks.ModelCheckpoint(\n",
    "    filepath=checkpoint_dir,\n",
    "    save_weights_only=False,\n",
    "    verbose=1,\n",
    "    monitor=\"val_loss\",\n",
    "    save_best_only=False,\n",
    "    save_freq=cfg.logging.save_freq,\n",
    ")\n",
    "tensorboard_callback = tf.keras.callbacks.TensorBoard(log_dir=f\"logs/{model.name}\", histogram_freq=1)\n",
    "\n",
    "callbacks = [tensorboard_callback]\n",
    "if cfg.logging.save_model:\n",
    "    callbacks.append(checkpoint_callback)"
   ]
  },
  {
   "cell_type": "code",
   "execution_count": null,
   "id": "110e48c2-58eb-4067-ab54-7d9db701d6d3",
   "metadata": {},
   "outputs": [],
   "source": []
  },
  {
   "cell_type": "code",
   "execution_count": null,
   "id": "33731bbc-cdbd-41e6-b451-d7c7184ecb7c",
   "metadata": {},
   "outputs": [],
   "source": [
    "checkpoint = tf.train.Checkpoint(model)\n",
    "\n",
    "# Save a checkpoint to /tmp/training_checkpoints-{save_counter}. Every time\n",
    "# checkpoint.save is called, the save counter is increased.\n",
    "save_path = checkpoint.save('/tmp/training_checkpoints')\n",
    "\n",
    "# Restore the checkpointed values to the `model` object.\n",
    "checkpoint.restore(save_path)"
   ]
  },
  {
   "cell_type": "code",
   "execution_count": null,
   "id": "155f169e-f690-4ad5-9f27-918078a78e0f",
   "metadata": {},
   "outputs": [],
   "source": []
  },
  {
   "cell_type": "code",
   "execution_count": 21,
   "id": "4d153a60-963e-40b9-97a8-ce65c435314c",
   "metadata": {},
   "outputs": [
    {
     "name": "stdout",
     "output_type": "stream",
     "text": [
      "Epoch 1/2\n",
      "82/82 [==============================] - 14s 114ms/step - loss: 249.9951 - val_loss: 157.5617\n",
      "Epoch 2/2\n",
      "82/82 [==============================] - 8s 103ms/step - loss: 203.9431 - val_loss: 136.9290\n",
      "HISTORY: \n",
      " <keras.callbacks.History object at 0x7fb7b8423f10>\n"
     ]
    }
   ],
   "source": [
    "history = model.fit(\n",
    "    train_dataset,\n",
    "    epochs=2,\n",
    "    validation_data=validation_dataset,\n",
    "    # callbacks=callbacks\n",
    ")\n",
    "\n",
    "print(\"HISTORY: \\n\", history)"
   ]
  },
  {
   "cell_type": "code",
   "execution_count": 22,
   "id": "9fd008e6-b7a6-4b19-9c03-974296ffd208",
   "metadata": {},
   "outputs": [
    {
     "name": "stderr",
     "output_type": "stream",
     "text": [
      "2022-05-17 18:20:34.454497: W tensorflow/python/util/util.cc:368] Sets are not currently considered sequences, but this may change in the future, so consider avoiding using them.\n"
     ]
    },
    {
     "name": "stdout",
     "output_type": "stream",
     "text": [
      "INFO:tensorflow:Assets written to: tmp/ar_model/assets\n"
     ]
    }
   ],
   "source": [
    "model.save(\"tmp/ar_model\")"
   ]
  },
  {
   "cell_type": "code",
   "execution_count": null,
   "id": "e7f3284c-7581-4637-b9a1-f1fda36c4651",
   "metadata": {},
   "outputs": [],
   "source": [
    "example = 0.5*np.ones((1,24,66))"
   ]
  },
  {
   "cell_type": "code",
   "execution_count": 58,
   "id": "dff24d0b-8db7-4245-9ef8-f4acba668efd",
   "metadata": {},
   "outputs": [
    {
     "data": {
      "text/plain": [
       "array([[[26.966831  ,  8.68774   ,  2.9315445 , ...,  3.6222932 ,\n",
       "          1.4841013 ,  1.044779  ],\n",
       "        [28.055494  ,  9.063206  ,  3.0927482 , ...,  3.8401082 ,\n",
       "          1.5994511 ,  1.0131922 ],\n",
       "        [28.159857  ,  9.092141  ,  3.146552  , ...,  3.870171  ,\n",
       "          1.6423197 ,  0.9317352 ],\n",
       "        ...,\n",
       "        [28.193731  ,  9.087407  ,  3.3121045 , ...,  3.95938   ,\n",
       "          1.6351811 ,  0.8109978 ],\n",
       "        [28.193344  ,  9.087151  ,  3.3166075 , ...,  3.9619372 ,\n",
       "          1.6338671 ,  0.80837333],\n",
       "        [28.192976  ,  9.086931  ,  3.3208897 , ...,  3.9643805 ,\n",
       "          1.6325773 ,  0.80587566]]], dtype=float32)"
      ]
     },
     "execution_count": 58,
     "metadata": {},
     "output_type": "execute_result"
    }
   ],
   "source": [
    "model2 = tf.keras.models.load_model(\"tmp/ar_model\")\n",
    "model2.predict(example)"
   ]
  },
  {
   "cell_type": "code",
   "execution_count": 59,
   "id": "3808a054-cd08-4f46-83cc-415ea6bc0983",
   "metadata": {},
   "outputs": [
    {
     "data": {
      "text/plain": [
       "array([[[183.75342   ,   4.783211  ,   0.6952013 , ...,   2.3021913 ,\n",
       "           0.30798957,   2.6254535 ],\n",
       "        [161.63907   ,   7.3271427 ,   2.0071354 , ...,   2.5737944 ,\n",
       "           0.373977  ,   2.8834164 ],\n",
       "        [136.89952   ,   9.210284  ,   2.9288535 , ...,   2.569141  ,\n",
       "           0.6925335 ,   2.5410297 ],\n",
       "        ...,\n",
       "        [ 63.747128  ,  13.833287  ,   4.4672227 , ...,   4.299303  ,\n",
       "           1.426804  ,   1.5913831 ],\n",
       "        [ 62.505276  ,  13.949562  ,   4.4759736 , ...,   4.3127565 ,\n",
       "           1.4014196 ,   1.5984558 ],\n",
       "        [ 60.562443  ,  14.198771  ,   4.5263495 , ...,   4.2959843 ,\n",
       "           1.3420253 ,   1.630337  ]]], dtype=float32)"
      ]
     },
     "execution_count": 59,
     "metadata": {},
     "output_type": "execute_result"
    }
   ],
   "source": [
    "model3 = tf.keras.models.load_model(\"outputs/2022-05-17/16-00-33/saved_models/checkpoints/AutoRegressiveMultiStepLSTM\")\n",
    "model3.predict(example)"
   ]
  },
  {
   "cell_type": "code",
   "execution_count": null,
   "id": "2d54bf3d-9a1d-4272-873d-a1a603c9c0a7",
   "metadata": {},
   "outputs": [],
   "source": []
  }
 ],
 "metadata": {
  "kernelspec": {
   "display_name": "ml",
   "language": "python",
   "name": "ml"
  },
  "language_info": {
   "codemirror_mode": {
    "name": "ipython",
    "version": 3
   },
   "file_extension": ".py",
   "mimetype": "text/x-python",
   "name": "python",
   "nbconvert_exporter": "python",
   "pygments_lexer": "ipython3",
   "version": "3.8.12"
  }
 },
 "nbformat": 4,
 "nbformat_minor": 5
}
